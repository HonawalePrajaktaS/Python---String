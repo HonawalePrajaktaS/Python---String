{
  "nbformat": 4,
  "nbformat_minor": 0,
  "metadata": {
    "colab": {
      "provenance": []
    },
    "kernelspec": {
      "name": "python3",
      "display_name": "Python 3"
    },
    "language_info": {
      "name": "python"
    }
  },
  "cells": [
    {
      "cell_type": "code",
      "execution_count": null,
      "metadata": {
        "colab": {
          "base_uri": "https://localhost:8080/"
        },
        "id": "G5wQ2zevgghj",
        "outputId": "e87404ce-c3fc-44c6-9963-495914c1c5a1"
      },
      "outputs": [
        {
          "output_type": "stream",
          "name": "stdout",
          "text": [
            "s1 ans s2 are same string\n"
          ]
        }
      ],
      "source": [
        "#How would you confirm that 2 strings have the same identity?\n",
        "s1=\"prajakta\"\n",
        "s2=\"prajakta\"\n",
        "if s1 is s2:\n",
        "  print(\"s1 ans s2 are same string\")\n",
        "else:\n",
        "  print(\"s1 ans s2 are not same string\")"
      ]
    },
    {
      "cell_type": "code",
      "source": [
        "# How would you check if each word in a string begins with a capital letter?\n",
        "str=\"This is A String\"\n",
        "print(str.istitle())"
      ],
      "metadata": {
        "colab": {
          "base_uri": "https://localhost:8080/"
        },
        "id": "3Y1RIpcpg85r",
        "outputId": "70b0dcb8-8412-45bd-d169-3cad90ef3e55"
      },
      "execution_count": null,
      "outputs": [
        {
          "output_type": "stream",
          "name": "stdout",
          "text": [
            "False\n"
          ]
        }
      ]
    },
    {
      "cell_type": "code",
      "source": [
        "# Check if a string contains a specific substring\n",
        "str=\"India is my country\"\n",
        "print(str.find(\"is\"))"
      ],
      "metadata": {
        "colab": {
          "base_uri": "https://localhost:8080/"
        },
        "id": "Z3A8OjRuhWU8",
        "outputId": "079fa8a5-f27f-4e0a-8c7b-5e3e3249bb6b"
      },
      "execution_count": null,
      "outputs": [
        {
          "output_type": "stream",
          "name": "stdout",
          "text": [
            "6\n"
          ]
        }
      ]
    },
    {
      "cell_type": "code",
      "source": [
        "# Find the index of the first occurrence of a substring in a string\n",
        "str=\"India is my country\"\n",
        "print(str.index(\"my\"))"
      ],
      "metadata": {
        "colab": {
          "base_uri": "https://localhost:8080/"
        },
        "id": "VCYTjTUM6mgA",
        "outputId": "c516b8fd-80c1-45b1-e990-cd91bb916a32"
      },
      "execution_count": null,
      "outputs": [
        {
          "output_type": "stream",
          "name": "stdout",
          "text": [
            "9\n"
          ]
        }
      ]
    },
    {
      "cell_type": "code",
      "source": [],
      "metadata": {
        "id": "wfNXjD3l67k5"
      },
      "execution_count": null,
      "outputs": []
    },
    {
      "cell_type": "code",
      "source": [
        "# Count the total number of characters in a string\n",
        "str=\"jsdbnchjdbsc jsd chs cjhsdc\"\n",
        "len(str)"
      ],
      "metadata": {
        "id": "PaxsuNzd6mi7",
        "colab": {
          "base_uri": "https://localhost:8080/"
        },
        "outputId": "ce7a39e1-6dc2-4814-d157-bcffabb03978"
      },
      "execution_count": null,
      "outputs": [
        {
          "output_type": "execute_result",
          "data": {
            "text/plain": [
              "27"
            ]
          },
          "metadata": {},
          "execution_count": 2
        }
      ]
    },
    {
      "cell_type": "code",
      "source": [
        "#Count the number of a specific character in a string\n",
        "str=\"kskjdhbcuhdsbvcy jsdbhchgdsvt hsdbcghv jhsdbucgvccc\"\n",
        "str.count(\"s\")"
      ],
      "metadata": {
        "id": "eo2VWS6e6Qgr",
        "colab": {
          "base_uri": "https://localhost:8080/"
        },
        "outputId": "a7523be6-1e1b-4436-9d83-b13c39d45f30"
      },
      "execution_count": null,
      "outputs": [
        {
          "output_type": "execute_result",
          "data": {
            "text/plain": [
              "6"
            ]
          },
          "metadata": {},
          "execution_count": 4
        }
      ]
    },
    {
      "cell_type": "code",
      "source": [
        "# Capitalize the first character of a string\n",
        "str=\"jsdhbchsbducuds jdhcbhdscvt jdcbgh dhcbdshcb\"\n",
        "str.capitalize()\n"
      ],
      "metadata": {
        "colab": {
          "base_uri": "https://localhost:8080/",
          "height": 35
        },
        "id": "htMcMOn1Q9Ps",
        "outputId": "6df0a4cc-cdcc-479b-cb9d-2eda0a4a95fc"
      },
      "execution_count": null,
      "outputs": [
        {
          "output_type": "execute_result",
          "data": {
            "text/plain": [
              "'Jsdhbchsbducuds jdhcbhdscvt jdcbgh dhcbdshcb'"
            ],
            "application/vnd.google.colaboratory.intrinsic+json": {
              "type": "string"
            }
          },
          "metadata": {},
          "execution_count": 6
        }
      ]
    },
    {
      "cell_type": "code",
      "source": [
        "# Check if a string contains only numbers\n",
        "str=\"165341712356\"\n",
        "str.isnumeric()"
      ],
      "metadata": {
        "colab": {
          "base_uri": "https://localhost:8080/"
        },
        "id": "hvck73jGQ9XZ",
        "outputId": "06571aa5-56f1-4400-a6e2-df70dd013a93"
      },
      "execution_count": null,
      "outputs": [
        {
          "output_type": "execute_result",
          "data": {
            "text/plain": [
              "True"
            ]
          },
          "metadata": {},
          "execution_count": 7
        }
      ]
    },
    {
      "cell_type": "code",
      "source": [
        "# Split a string on a specific character\n",
        "str=\"sdbcjhbsdcbdsc\"\n",
        "str.split(\"d\")"
      ],
      "metadata": {
        "colab": {
          "base_uri": "https://localhost:8080/"
        },
        "id": "knKb2pJYQ9ao",
        "outputId": "4ce1164b-e7e5-4aa6-c410-1ca519b0572b"
      },
      "execution_count": null,
      "outputs": [
        {
          "output_type": "execute_result",
          "data": {
            "text/plain": [
              "['s', 'bcjhbs', 'cb', 'sc']"
            ]
          },
          "metadata": {},
          "execution_count": 10
        }
      ]
    },
    {
      "cell_type": "code",
      "source": [
        "# Check if a string is composed of all lower case characters\n",
        "str=\"jdhbcudvs cjdhcbdshuvc jsdhcb jhdbchsbHBSHBDX CCSJDHBC\"\n",
        "str.islower()"
      ],
      "metadata": {
        "colab": {
          "base_uri": "https://localhost:8080/"
        },
        "id": "RiwL3_lTRg_Q",
        "outputId": "432e120f-dd7b-41ae-f746-b115d12d3cf9"
      },
      "execution_count": null,
      "outputs": [
        {
          "output_type": "execute_result",
          "data": {
            "text/plain": [
              "False"
            ]
          },
          "metadata": {},
          "execution_count": 11
        }
      ]
    },
    {
      "cell_type": "code",
      "source": [
        "# Check if the first character in a string is lowercase\n",
        "str=\"sdhb jhdfbvhsd sjdhbv\"\n",
        "str[0].islower()"
      ],
      "metadata": {
        "colab": {
          "base_uri": "https://localhost:8080/"
        },
        "id": "Tm66oMgXRhBy",
        "outputId": "f22b1e61-56dd-41f6-dfbd-9ee34fe8e87c"
      },
      "execution_count": null,
      "outputs": [
        {
          "output_type": "execute_result",
          "data": {
            "text/plain": [
              "True"
            ]
          },
          "metadata": {},
          "execution_count": 12
        }
      ]
    },
    {
      "cell_type": "code",
      "source": [
        "# Can an integer be added to a string in Python? --> no\n",
        "str=\"skdjvn\"\n",
        "str+1"
      ],
      "metadata": {
        "colab": {
          "base_uri": "https://localhost:8080/",
          "height": 176
        },
        "id": "9RKATyZZRhFd",
        "outputId": "b7cc412b-97d1-4224-82e0-012efee97704"
      },
      "execution_count": null,
      "outputs": [
        {
          "output_type": "error",
          "ename": "TypeError",
          "evalue": "can only concatenate str (not \"int\") to str",
          "traceback": [
            "\u001b[0;31m---------------------------------------------------------------------------\u001b[0m",
            "\u001b[0;31mTypeError\u001b[0m                                 Traceback (most recent call last)",
            "\u001b[0;32m<ipython-input-13-5e4675696b7d>\u001b[0m in \u001b[0;36m<cell line: 3>\u001b[0;34m()\u001b[0m\n\u001b[1;32m      1\u001b[0m \u001b[0;31m# Can an integer be added to a string in Python?\u001b[0m\u001b[0;34m\u001b[0m\u001b[0;34m\u001b[0m\u001b[0m\n\u001b[1;32m      2\u001b[0m \u001b[0mstr\u001b[0m\u001b[0;34m=\u001b[0m\u001b[0;34m\"skdjvn\"\u001b[0m\u001b[0;34m\u001b[0m\u001b[0;34m\u001b[0m\u001b[0m\n\u001b[0;32m----> 3\u001b[0;31m \u001b[0mstr\u001b[0m\u001b[0;34m+\u001b[0m\u001b[0;36m1\u001b[0m\u001b[0;34m\u001b[0m\u001b[0;34m\u001b[0m\u001b[0m\n\u001b[0m",
            "\u001b[0;31mTypeError\u001b[0m: can only concatenate str (not \"int\") to str"
          ]
        }
      ]
    },
    {
      "cell_type": "code",
      "source": [
        "# Reverse the string “hello world”\n",
        "str=\"hello world\"\n",
        "str[::-1]"
      ],
      "metadata": {
        "colab": {
          "base_uri": "https://localhost:8080/",
          "height": 35
        },
        "id": "SUUnMuZ4TmaW",
        "outputId": "e3d2cc89-7f4e-4914-c686-338c473afead"
      },
      "execution_count": null,
      "outputs": [
        {
          "output_type": "execute_result",
          "data": {
            "text/plain": [
              "'dlrow olleh'"
            ],
            "application/vnd.google.colaboratory.intrinsic+json": {
              "type": "string"
            }
          },
          "metadata": {},
          "execution_count": 14
        }
      ]
    },
    {
      "cell_type": "code",
      "source": [
        "str1=\"\"\n",
        "for i in range(-1,-len(str)-1,-1):\n",
        "  str1=str1+str[i]\n",
        "print(str1)"
      ],
      "metadata": {
        "colab": {
          "base_uri": "https://localhost:8080/"
        },
        "id": "Zhdjiy1ETmdO",
        "outputId": "ea80ffc0-6ed6-429b-ebb3-73e3222e16e4"
      },
      "execution_count": null,
      "outputs": [
        {
          "output_type": "stream",
          "name": "stdout",
          "text": [
            "dlrow olleh\n"
          ]
        }
      ]
    },
    {
      "cell_type": "code",
      "source": [
        "str2=\"\"\n",
        "for i in str:\n",
        "  str2=i+str2\n",
        "print(str2)"
      ],
      "metadata": {
        "colab": {
          "base_uri": "https://localhost:8080/"
        },
        "id": "clZ5-7nlUSAH",
        "outputId": "dad91b1e-1a9d-43ff-f54d-7074239c7562"
      },
      "execution_count": null,
      "outputs": [
        {
          "output_type": "stream",
          "name": "stdout",
          "text": [
            "dlrow olleh\n"
          ]
        }
      ]
    },
    {
      "cell_type": "code",
      "source": [
        "from functools import reduce\n",
        "\n",
        "string = \"Hello, World!\"\n",
        "reversed_string = reduce(lambda x, y: y + x, string)\n",
        "print(reversed_string)  # Output: !dlroW ,olleH"
      ],
      "metadata": {
        "colab": {
          "base_uri": "https://localhost:8080/"
        },
        "id": "1_3AoSrLU4QK",
        "outputId": "1d966c97-9be0-4e6e-8446-535dd9396bef"
      },
      "execution_count": null,
      "outputs": [
        {
          "output_type": "stream",
          "name": "stdout",
          "text": [
            "!dlroW ,olleH\n"
          ]
        }
      ]
    },
    {
      "cell_type": "code",
      "source": [
        "string = \"Hello, World!\"\n",
        "reversed_string = \"\"\n",
        "for char in string:\n",
        "    reversed_string = char + reversed_string\n",
        "print(reversed_string)  # Output: !dlroW ,olleH\n"
      ],
      "metadata": {
        "colab": {
          "base_uri": "https://localhost:8080/"
        },
        "id": "-DQMY3G-Ut4u",
        "outputId": "5f2f9bc5-f3f3-41b4-ab68-26906dc2e3a7"
      },
      "execution_count": null,
      "outputs": [
        {
          "output_type": "stream",
          "name": "stdout",
          "text": [
            "!dlroW ,olleH\n"
          ]
        }
      ]
    },
    {
      "cell_type": "code",
      "source": [
        "# Join a list of strings into a single string, delimited by hyphens\n",
        "str=\"jsdhcbv h-jsdc-jhbxss\"\n",
        "str.split(\"-\")"
      ],
      "metadata": {
        "colab": {
          "base_uri": "https://localhost:8080/"
        },
        "id": "fv4bki8YVAqV",
        "outputId": "1f7018c9-7435-47c9-8480-974047928947"
      },
      "execution_count": null,
      "outputs": [
        {
          "output_type": "execute_result",
          "data": {
            "text/plain": [
              "['jsdhcbv h', 'jsdc', 'jhbxss']"
            ]
          },
          "metadata": {},
          "execution_count": 30
        }
      ]
    },
    {
      "cell_type": "code",
      "source": [
        "# Uppercase or lowercase an entire string\n",
        "str=\"jsdhbchbsdhsdhbc jsdcbh\"\n",
        "str.upper()"
      ],
      "metadata": {
        "colab": {
          "base_uri": "https://localhost:8080/",
          "height": 35
        },
        "id": "GpuO-F2aVAtX",
        "outputId": "0842b281-75fa-4927-be8a-70f85b39147c"
      },
      "execution_count": null,
      "outputs": [
        {
          "output_type": "execute_result",
          "data": {
            "text/plain": [
              "'JSDHBCHBSDHSDHBC JSDCBH'"
            ],
            "application/vnd.google.colaboratory.intrinsic+json": {
              "type": "string"
            }
          },
          "metadata": {},
          "execution_count": 31
        }
      ]
    },
    {
      "cell_type": "code",
      "source": [
        "str.lower()"
      ],
      "metadata": {
        "colab": {
          "base_uri": "https://localhost:8080/",
          "height": 35
        },
        "id": "kBwz7mpFVAx0",
        "outputId": "a309a78c-ca94-441f-cc3b-fc86eca42aa7"
      },
      "execution_count": null,
      "outputs": [
        {
          "output_type": "execute_result",
          "data": {
            "text/plain": [
              "'jsdhbchbsdhsdhbc jsdcbh'"
            ],
            "application/vnd.google.colaboratory.intrinsic+json": {
              "type": "string"
            }
          },
          "metadata": {},
          "execution_count": 32
        }
      ]
    },
    {
      "cell_type": "code",
      "source": [
        "# Uppercase first and last character of a string\n",
        "str=\"kd vj vknf vnuhb\"\n",
        "str[0].upper()+str[1:-1]+str[-1].upper()\n"
      ],
      "metadata": {
        "colab": {
          "base_uri": "https://localhost:8080/",
          "height": 35
        },
        "id": "5uWO31d9VX9l",
        "outputId": "8afcad37-8dc6-43da-83ec-2e9862960ea8"
      },
      "execution_count": null,
      "outputs": [
        {
          "output_type": "execute_result",
          "data": {
            "text/plain": [
              "'Kd vj vknf vnuhB'"
            ],
            "application/vnd.google.colaboratory.intrinsic+json": {
              "type": "string"
            }
          },
          "metadata": {},
          "execution_count": 34
        }
      ]
    },
    {
      "cell_type": "code",
      "source": [
        "# Check if a string is all uppercase\n",
        "str=\"JSNC JSDCHBSDJC\"\n",
        "str.isupper()"
      ],
      "metadata": {
        "colab": {
          "base_uri": "https://localhost:8080/"
        },
        "id": "RFvidkjCVYBi",
        "outputId": "9f956241-f596-4147-bb7b-73f6d39df593"
      },
      "execution_count": null,
      "outputs": [
        {
          "output_type": "execute_result",
          "data": {
            "text/plain": [
              "True"
            ]
          },
          "metadata": {},
          "execution_count": 35
        }
      ]
    },
    {
      "cell_type": "code",
      "source": [
        "# Convert an integer to a string\n",
        "num = 73643646\n",
        "str1 = str(num)\n",
        "print(str1)\n",
        "\n"
      ],
      "metadata": {
        "colab": {
          "base_uri": "https://localhost:8080/",
          "height": 211
        },
        "id": "zw3Jl5v-VYG0",
        "outputId": "afc79d17-622b-46fe-e55e-c4b5d018273a"
      },
      "execution_count": null,
      "outputs": [
        {
          "output_type": "error",
          "ename": "TypeError",
          "evalue": "'int' object is not callable",
          "traceback": [
            "\u001b[0;31m---------------------------------------------------------------------------\u001b[0m",
            "\u001b[0;31mTypeError\u001b[0m                                 Traceback (most recent call last)",
            "\u001b[0;32m<ipython-input-41-ba0dc98ed13a>\u001b[0m in \u001b[0;36m<cell line: 3>\u001b[0;34m()\u001b[0m\n\u001b[1;32m      1\u001b[0m \u001b[0;31m# Convert an integer to a string\u001b[0m\u001b[0;34m\u001b[0m\u001b[0;34m\u001b[0m\u001b[0m\n\u001b[1;32m      2\u001b[0m \u001b[0mnum\u001b[0m \u001b[0;34m=\u001b[0m \u001b[0;36m73643646\u001b[0m\u001b[0;34m\u001b[0m\u001b[0;34m\u001b[0m\u001b[0m\n\u001b[0;32m----> 3\u001b[0;31m \u001b[0mstr1\u001b[0m \u001b[0;34m=\u001b[0m \u001b[0mstr\u001b[0m\u001b[0;34m(\u001b[0m\u001b[0mnum\u001b[0m\u001b[0;34m)\u001b[0m\u001b[0;34m\u001b[0m\u001b[0;34m\u001b[0m\u001b[0m\n\u001b[0m\u001b[1;32m      4\u001b[0m \u001b[0mprint\u001b[0m\u001b[0;34m(\u001b[0m\u001b[0mstr1\u001b[0m\u001b[0;34m)\u001b[0m\u001b[0;34m\u001b[0m\u001b[0;34m\u001b[0m\u001b[0m\n\u001b[1;32m      5\u001b[0m \u001b[0;34m\u001b[0m\u001b[0m\n",
            "\u001b[0;31mTypeError\u001b[0m: 'int' object is not callable"
          ]
        }
      ]
    },
    {
      "cell_type": "code",
      "source": [
        "num = 73643646\n",
        "str1 = str(num)  # Use the built-in str function correctly\n",
        "print(str1)  # Output: '73643646'\n"
      ],
      "metadata": {
        "colab": {
          "base_uri": "https://localhost:8080/",
          "height": 176
        },
        "id": "9iRP-prxWxNT",
        "outputId": "f667873e-987a-490a-97e4-d875fda4034d"
      },
      "execution_count": null,
      "outputs": [
        {
          "output_type": "error",
          "ename": "TypeError",
          "evalue": "'int' object is not callable",
          "traceback": [
            "\u001b[0;31m---------------------------------------------------------------------------\u001b[0m",
            "\u001b[0;31mTypeError\u001b[0m                                 Traceback (most recent call last)",
            "\u001b[0;32m<ipython-input-42-99813c6eda69>\u001b[0m in \u001b[0;36m<cell line: 2>\u001b[0;34m()\u001b[0m\n\u001b[1;32m      1\u001b[0m \u001b[0mnum\u001b[0m \u001b[0;34m=\u001b[0m \u001b[0;36m73643646\u001b[0m\u001b[0;34m\u001b[0m\u001b[0;34m\u001b[0m\u001b[0m\n\u001b[0;32m----> 2\u001b[0;31m \u001b[0mstr1\u001b[0m \u001b[0;34m=\u001b[0m \u001b[0mstr\u001b[0m\u001b[0;34m(\u001b[0m\u001b[0mnum\u001b[0m\u001b[0;34m)\u001b[0m  \u001b[0;31m# Use the built-in str function correctly\u001b[0m\u001b[0;34m\u001b[0m\u001b[0;34m\u001b[0m\u001b[0m\n\u001b[0m\u001b[1;32m      3\u001b[0m \u001b[0mprint\u001b[0m\u001b[0;34m(\u001b[0m\u001b[0mstr1\u001b[0m\u001b[0;34m)\u001b[0m  \u001b[0;31m# Output: '73643646'\u001b[0m\u001b[0;34m\u001b[0m\u001b[0;34m\u001b[0m\u001b[0m\n",
            "\u001b[0;31mTypeError\u001b[0m: 'int' object is not callable"
          ]
        }
      ]
    },
    {
      "cell_type": "code",
      "source": [
        "# Check if a string contains only characters of the alphabet\n",
        "str=\"jsbd674bye732w\"\n",
        "str.isalpha()"
      ],
      "metadata": {
        "colab": {
          "base_uri": "https://localhost:8080/"
        },
        "id": "zyKP5mNwWxQo",
        "outputId": "db590a43-fdd9-435c-bb5a-00a364a93b01"
      },
      "execution_count": null,
      "outputs": [
        {
          "output_type": "execute_result",
          "data": {
            "text/plain": [
              "False"
            ]
          },
          "metadata": {},
          "execution_count": 43
        }
      ]
    },
    {
      "cell_type": "code",
      "source": [
        "# Check if all characters in a string are alphanumeric\n",
        "str=\"jdb7b4iu734fy\"\n",
        "str.isalnum()"
      ],
      "metadata": {
        "colab": {
          "base_uri": "https://localhost:8080/"
        },
        "id": "UFW14fbpcCr8",
        "outputId": "a8f8cd9c-8b9e-4b8f-96d0-243df1c80f82"
      },
      "execution_count": null,
      "outputs": [
        {
          "output_type": "execute_result",
          "data": {
            "text/plain": [
              "True"
            ]
          },
          "metadata": {},
          "execution_count": 44
        }
      ]
    },
    {
      "cell_type": "code",
      "source": [
        "# Remove whitespace from the left, right or both sides of a string\n",
        "str=' jsdbvh skdhb ksdjbh '\n",
        "str.lstrip()"
      ],
      "metadata": {
        "colab": {
          "base_uri": "https://localhost:8080/",
          "height": 35
        },
        "id": "NLqwN8YBcPf2",
        "outputId": "50225078-1bf9-4c70-dadd-5a98b6f719c0"
      },
      "execution_count": null,
      "outputs": [
        {
          "output_type": "execute_result",
          "data": {
            "text/plain": [
              "'jsdbvh skdhb ksdjbh '"
            ],
            "application/vnd.google.colaboratory.intrinsic+json": {
              "type": "string"
            }
          },
          "metadata": {},
          "execution_count": 50
        }
      ]
    },
    {
      "cell_type": "code",
      "source": [
        "str=' jsdbvh skdhb ksdjbh '\n",
        "str.rstrip()"
      ],
      "metadata": {
        "colab": {
          "base_uri": "https://localhost:8080/",
          "height": 35
        },
        "id": "kbXAgsAFcPiZ",
        "outputId": "c29d4b63-12a3-4779-8926-37a400725b32"
      },
      "execution_count": null,
      "outputs": [
        {
          "output_type": "execute_result",
          "data": {
            "text/plain": [
              "' jsdbvh skdhb ksdjbh'"
            ],
            "application/vnd.google.colaboratory.intrinsic+json": {
              "type": "string"
            }
          },
          "metadata": {},
          "execution_count": 52
        }
      ]
    },
    {
      "cell_type": "code",
      "source": [
        "str=' jsdbvh skdhb ksdjbh '\n",
        "str.strip()"
      ],
      "metadata": {
        "colab": {
          "base_uri": "https://localhost:8080/",
          "height": 35
        },
        "id": "4Igd0op-cPlx",
        "outputId": "534d5a16-a8e4-420f-8c50-dcc243d010ec"
      },
      "execution_count": null,
      "outputs": [
        {
          "output_type": "execute_result",
          "data": {
            "text/plain": [
              "'jsdbvh skdhb ksdjbh'"
            ],
            "application/vnd.google.colaboratory.intrinsic+json": {
              "type": "string"
            }
          },
          "metadata": {},
          "execution_count": 53
        }
      ]
    },
    {
      "cell_type": "code",
      "source": [
        "# Check if a string begins with or ends with a specific character?\n",
        "str='kdsjcbsydubc'\n",
        "str.endswith('c')"
      ],
      "metadata": {
        "colab": {
          "base_uri": "https://localhost:8080/"
        },
        "id": "LG8M2xKicmhe",
        "outputId": "01fa9ece-39dc-4a76-8a22-cc625d0be9f4"
      },
      "execution_count": null,
      "outputs": [
        {
          "output_type": "execute_result",
          "data": {
            "text/plain": [
              "True"
            ]
          },
          "metadata": {},
          "execution_count": 54
        }
      ]
    },
    {
      "cell_type": "code",
      "source": [
        "# Capitalize the first character of each word in a string\n",
        "str=\"sjdcbh uhdb jsdhbc\"\n",
        "str.capitalize()"
      ],
      "metadata": {
        "colab": {
          "base_uri": "https://localhost:8080/",
          "height": 35
        },
        "id": "2CfKI0IycmmA",
        "outputId": "7c7fd048-2def-47e3-8343-6b005a47ef56"
      },
      "execution_count": null,
      "outputs": [
        {
          "output_type": "execute_result",
          "data": {
            "text/plain": [
              "'Sjdcbh uhdb jsdhbc'"
            ],
            "application/vnd.google.colaboratory.intrinsic+json": {
              "type": "string"
            }
          },
          "metadata": {},
          "execution_count": 58
        }
      ]
    },
    {
      "cell_type": "code",
      "source": [
        "str=\"sjdcbh jhdcbjhdb jhebd\"\n",
        "str.title()"
      ],
      "metadata": {
        "colab": {
          "base_uri": "https://localhost:8080/",
          "height": 35
        },
        "id": "qGG_QHa9cmo-",
        "outputId": "6ce6495e-2a8d-40f0-85d3-90440b338dc7"
      },
      "execution_count": null,
      "outputs": [
        {
          "output_type": "execute_result",
          "data": {
            "text/plain": [
              "'Sjdcbh Jhdcbjhdb Jhebd'"
            ],
            "application/vnd.google.colaboratory.intrinsic+json": {
              "type": "string"
            }
          },
          "metadata": {},
          "execution_count": 59
        }
      ]
    },
    {
      "cell_type": "code",
      "source": [
        "# What does it mean for strings to be immutable in Python?\n",
        "str=\"sdbchds\"\n",
        "str[0]=\"d\"\n",
        "# once you create an string , you can mnot chnage it .\n",
        "# u can add alphabets ot number in the string but can not chnage it\n"
      ],
      "metadata": {
        "id": "xHjr8Grfcmsd"
      },
      "execution_count": null,
      "outputs": []
    },
    {
      "cell_type": "code",
      "source": [
        "str=\"dshcb\"\n",
        "str=str+\"d\"\n",
        "str"
      ],
      "metadata": {
        "colab": {
          "base_uri": "https://localhost:8080/",
          "height": 35
        },
        "id": "6tdG4inOdXLv",
        "outputId": "63155f7a-8626-4472-e523-3677d6bdf1f8"
      },
      "execution_count": null,
      "outputs": [
        {
          "output_type": "execute_result",
          "data": {
            "text/plain": [
              "'dshcbd'"
            ],
            "application/vnd.google.colaboratory.intrinsic+json": {
              "type": "string"
            }
          },
          "metadata": {},
          "execution_count": 62
        }
      ]
    },
    {
      "cell_type": "code",
      "source": [
        "# Does defining a string twice (associated with 2 different variable names) create one or two objects in memory?\n",
        "str1 = \"hello\"\n",
        "str2 = \"hello\"\n",
        "print(str1 is str2)  # Output: True\n",
        "# In this case, Python will often create a single string object \"hello\" in memory and make both str1 and str2 refer to that same object."
      ],
      "metadata": {
        "colab": {
          "base_uri": "https://localhost:8080/"
        },
        "id": "GH0KwF_mdXOW",
        "outputId": "f7b1200b-5b7d-4929-e3cf-946731b9e654"
      },
      "execution_count": null,
      "outputs": [
        {
          "output_type": "stream",
          "name": "stdout",
          "text": [
            "True\n"
          ]
        }
      ]
    },
    {
      "cell_type": "code",
      "source": [
        "# Remove vowels from a string\n",
        "vowels=[\"a\",\"e\",\"i\",\"o\",\"u\"]\n",
        "str=\"jhdfbaaaeecjoooooooohbsudc\"\n",
        "str1=\"\"\n",
        "for i in range(1,len(str1)):\n",
        "  if i not in vowels:\n",
        "    str1=str1+str[i]\n",
        "print(str1)"
      ],
      "metadata": {
        "colab": {
          "base_uri": "https://localhost:8080/"
        },
        "id": "bkQxgKFBd_Di",
        "outputId": "ce729f49-133c-4747-ee93-051f02fdbbc8"
      },
      "execution_count": null,
      "outputs": [
        {
          "output_type": "stream",
          "name": "stdout",
          "text": [
            "\n"
          ]
        }
      ]
    }
  ]
}